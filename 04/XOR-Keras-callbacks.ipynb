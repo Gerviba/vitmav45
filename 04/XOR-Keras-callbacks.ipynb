{
  "nbformat": 4,
  "nbformat_minor": 0,
  "metadata": {
    "kernelspec": {
      "display_name": "Python 3",
      "language": "python",
      "name": "python3"
    },
    "language_info": {
      "codemirror_mode": {
        "name": "ipython",
        "version": 3
      },
      "file_extension": ".py",
      "mimetype": "text/x-python",
      "name": "python",
      "nbconvert_exporter": "python",
      "pygments_lexer": "ipython3",
      "version": "3.6.6"
    },
    "colab": {
      "name": "XOR-Keras-callbacks.ipynb",
      "provenance": [],
      "collapsed_sections": []
    }
  },
  "cells": [
    {
      "cell_type": "markdown",
      "metadata": {
        "id": "L_MOeR5jW_zj"
      },
      "source": [
        "# Copyright\n",
        "\n",
        "<PRE>\n",
        "Jelen iPython notebook a Budapesti Műszaki és Gazdaságtudományi Egyetemen tartott \"Deep Learning a gyakorlatban Python és LUA alapon\" tantárgy segédanyagaként készült. \n",
        "A tantárgy honlapja: http://smartlab.tmit.bme.hu/oktatas-deep-learning\n",
        "Deep Learning kutatás: http://smartlab.tmit.bme.hu/deep-learning\n",
        "\n",
        "A notebook bármely részének újra felhasználása, publikálása csak a szerzők írásos beleegyezése esetén megegengedett.\n",
        "\n",
        "2020 (c) Gyires-Tóth Bálint (toth.b kukac tmit pont bme pont hu), Császár Márk\n",
        "</PRE>"
      ]
    },
    {
      "cell_type": "markdown",
      "metadata": {
        "id": "JlUKPCakW_zk"
      },
      "source": [
        "# XOR probléma"
      ]
    },
    {
      "cell_type": "markdown",
      "metadata": {
        "id": "Xid8-hzmW_zk"
      },
      "source": [
        "Az előzőleg bemutatott XOR problémát e notebookban egy Python alapokra építkező, gépi tanulást elősegítő keretrendszerrel, a Kerassal fogjuk megoldani. A Keras az egyik legelterjedtebb mély tanuló keretrendszer, köszönhetően magas szintű megvalósításának. Backend-nek TensorFlow-t és Thenao-t is tud használni.\n",
        "A kódunk elején betöltjük a Keras csomagból a szükséges modulokat."
      ]
    },
    {
      "cell_type": "code",
      "metadata": {
        "id": "YnPn0FzuW_zl"
      },
      "source": [
        "# Először is, az egymáshoz képest lineárisan elhelyezkedő neurális hálózat modelljét.\n",
        "from tensorflow.keras.models import Sequential\n",
        "# Szükségünk van továbbá az előrecsatolt rétegekre, illetve a rajtuk elvégzett aktivációs függvényre.\n",
        "from tensorflow.keras.layers import Dense, Activation\n",
        "# A Callback függvény rengeteg hasznos információt szolgáltat a tanítási folyamat során, amelyekre kíváncsiak\n",
        "# szoktunk lenni. \n",
        "from tensorflow.keras.callbacks import Callback, TensorBoard\n",
        "# A tanulási folyamat során a széles körben alkalmazott Stochastic Gradient Descent metódust alkalmazzuk mini-batch-eken.\n",
        "# Ennek segítségével tudjuk a tanulási paramétereket szabályozni.\n",
        "from tensorflow.keras.optimizers import SGD\n",
        "# A jól ismert Numpy betöltése.\n",
        "import numpy as np\n",
        "# Standardizáláshoz\n",
        "from sklearn import preprocessing\n",
        "# Matplotlib grafikus megjelenítőcsomag meghívása\n",
        "import matplotlib.pyplot as plt\n",
        "\n",
        "# Random seed beállítása\n",
        "np.random.seed(1)"
      ],
      "execution_count": 4,
      "outputs": []
    },
    {
      "cell_type": "markdown",
      "metadata": {
        "id": "0nP4z0JyW_zo"
      },
      "source": [
        "Az előbb már említett Callback függvényre alapozva a TrainingHistory osztállyal tudunk kinyerni értékes metrikákat, amelyek a hálózat tanulási folyamatát jellemzik. "
      ]
    },
    {
      "cell_type": "code",
      "metadata": {
        "id": "kySOiVsXW_zo"
      },
      "source": [
        "class TrainingHistory(Callback):\n",
        "    # Tanulási folyamat elején létrehozunk egy-egy üres listát a kinyerni kívánt metrikák tárolása céljából.\n",
        "    def on_train_begin(self, logs={}):\n",
        "        # Hiba mértéke a tanító adatokon.\n",
        "        self.losses = []\n",
        "        # Hiba mértéke a validációs adatokon.\n",
        "        self.valid_losses = []\n",
        "        # A modell jóságát, pontosságát mérő mutatószám a tanító adatokon. \n",
        "        self.accs = []\n",
        "        # A modell jóságát, pontosságát mérő mutatószám a validációs adatokon. \n",
        "        self.valid_accs = []\n",
        "        # A tanítási fázisok sorszámozása.\n",
        "        self.epoch = 0\n",
        "    \n",
        "    # Minden egyes tanítási fázis végén mentsük el, hogy hogyan teljesít aktuálisan a háló. \n",
        "    def on_epoch_end(self, epoch, logs={}):\n",
        "        self.losses.append(logs.get('loss'))\n",
        "        self.valid_losses.append(logs.get('val_loss'))\n",
        "        self.accs.append(logs.get('acc'))\n",
        "        self.valid_accs.append(logs.get('val_acc'))\n",
        "        self.epoch += 1\n",
        "            \n",
        "history = TrainingHistory()"
      ],
      "execution_count": 5,
      "outputs": []
    },
    {
      "cell_type": "code",
      "metadata": {
        "id": "CUWtYGi1W_zq"
      },
      "source": [
        "# Modell felépítése\n",
        "from keras import regularizers\n",
        "# A modell struktúráját az egymásra linárisan épülő rétegek adják.\n",
        "model = Sequential()\n",
        "# Az első rejtett réteg definiálása, amely két bemenetről kapja az adatokat.\n",
        "model.add(Dense(10, input_shape=(2,)))\n",
        "# A rétegen alkalmazott szigmoid (hiperbolikus tanges) aktivációs függvény.\n",
        "model.add(Activation(\"tanh\"))\n",
        "# Utolsó réteg definiálása, amelynek egy kimenete van.\n",
        "model.add(Dense(1))\n",
        "# A rétegen alkalmazott szigmoid (hiperbolikus tanges) aktivációs függvény.\n",
        "model.add(Activation(\"tanh\"))\n",
        "# A tanulás előtt be kell állítani, hogy a tanulási folyamat milyen paraméterek mentén történjen.\n",
        "# Az első paraméter a hiba meghatározására az átlagos négyzetes hiba értéket fogjuk alkalmazni.\n",
        "model.compile(loss='mean_squared_error',\n",
        "              # A korábbiakban már említett SGD optimatizáló metódusban tudjuk meghatározni a tanulási rátát\n",
        "              # a momemtum módszer értékét, illetve, hogy használjon a háló Nesterov-momemtum módszert.\n",
        "              optimizer= SGD(lr=0.1, momentum=0.001, nesterov=True),\n",
        "              metrics=['accuracy'])"
      ],
      "execution_count": 6,
      "outputs": []
    },
    {
      "cell_type": "markdown",
      "metadata": {
        "id": "366aLGKXW_zs"
      },
      "source": [
        "Tanító, validációs és tesztelő adatok megadása, standardizálása és megjelenítése:"
      ]
    },
    {
      "cell_type": "code",
      "metadata": {
        "id": "xwByY11WW_zs",
        "outputId": "721670ef-be7f-40fc-c7b2-0126d3710ea4",
        "colab": {
          "base_uri": "https://localhost:8080/",
          "height": 318
        }
      },
      "source": [
        "nb_samples=200\n",
        "valid_split = 0.2\n",
        "test_split = 0.1\n",
        "samples=np.zeros(nb_samples, dtype=[('input', float, 2), ('output', float, 1)])\n",
        "for i in range(0,nb_samples,4):\n",
        "    noise = np.random.normal(0,1,8)\n",
        "    samples[i] = (-2+noise[0],-2+noise[1]), 0\n",
        "    samples[i+1] = (2+noise[2],-2+noise[3]), 1\n",
        "    samples[i+2] = (-2+noise[4],2+noise[5]), 1\n",
        "    samples[i+3] = (2+noise[6],2+noise[7]), 0\n",
        "\n",
        "fig1=plt.figure()\n",
        "plt.scatter(samples['input'][:,0],samples['input'][:,1],c=samples['output'][:], cmap=plt.cm.cool)\n",
        "\n",
        "samples_train = samples[0:int(nb_samples*(1-valid_split-test_split))]\n",
        "samples_valid = samples[int(nb_samples*(1-valid_split-test_split)):int(nb_samples*(1-test_split))]\n",
        "samples_test  = samples[int(nb_samples*(1-test_split)):]\n",
        "    \n",
        "# standardizálás\n",
        "scaler = preprocessing.StandardScaler().fit(samples_train['input'])\n",
        "samples_train['input'] = scaler.transform(samples_train['input'])\n",
        "samples_valid['input'] = scaler.transform(samples_valid['input'])\n",
        "samples_test['input'] = scaler.transform(samples_test['input'])"
      ],
      "execution_count": 7,
      "outputs": [
        {
          "output_type": "stream",
          "text": [
            "/usr/local/lib/python3.6/dist-packages/ipykernel_launcher.py:4: FutureWarning: Passing (type, 1) or '1type' as a synonym of type is deprecated; in a future version of numpy, it will be understood as (type, (1,)) / '(1,)type'.\n",
            "  after removing the cwd from sys.path.\n"
          ],
          "name": "stderr"
        },
        {
          "output_type": "display_data",
          "data": {
            "image/png": "[encoded data removed]",
            "text/plain": [
              "<Figure size 432x288 with 1 Axes>"
            ]
          },
          "metadata": {
            "tags": [],
            "needs_background": "light"
          }
        }
      ]
    },
    {
      "cell_type": "markdown",
      "metadata": {
        "id": "yoel49WFW_zu"
      },
      "source": [
        "A továbbiakban un. callback függvényeket adunk meg, melyeket tanítás során hív meg a Keras deep learning keretrendszer:"
      ]
    },
    {
      "cell_type": "code",
      "metadata": {
        "id": "OSNpgoIBW_zv"
      },
      "source": [
        "# Early stopping, amellyel figyeljük a validációs hibát (alap beállítás)\n",
        "from keras.callbacks import EarlyStopping\n",
        "patience=10\n",
        "early_stopping=EarlyStopping(patience=patience, verbose=1)\n",
        "\n",
        "# Szintén a validációs hibát figyeljük, és elmentjük a legjobb modellt\n",
        "from keras.callbacks import ModelCheckpoint\n",
        "checkpointer=ModelCheckpoint(filepath='weights.hdf5', save_best_only=True, verbose=1)\n",
        "\n",
        "# a tanulálsi ráta (lr, learning rate) automatikus csökkentésére szolgáló függvény\n",
        "from keras.callbacks import ReduceLROnPlateau\n",
        "reduce_lr = ReduceLROnPlateau(monitor='val_loss', factor=0.8, patience=20, min_lr=10e-5)\n",
        "\n",
        "# a tanulási ráta kézzel írt szabályok alapján történő csökkentésére szolgáló függvény\n",
        "# ezt most a tanítás során nem fogjuk használni, de érdemes kipróbálni a ReduceLROnPlateau\n",
        "# függvény helyett\n",
        "from keras.callbacks import LearningRateScheduler\n",
        "def scheduler(epoch):\n",
        "    result=0.1\n",
        "    if (epoch>20):\n",
        "        result=0.05\n",
        "    if (epoch>40):\n",
        "        result=10e-3\n",
        "    if (epoch>60):\n",
        "        result=0.1\n",
        "    print(\"Learning rate: %f\" % (result))\n",
        "    return result\n",
        "\n",
        "change_lr = LearningRateScheduler(scheduler)"
      ],
      "execution_count": 8,
      "outputs": []
    },
    {
      "cell_type": "code",
      "metadata": {
        "id": "EIDijZRUXRSH"
      },
      "source": [
        "tensorboard_callback = TensorBoard(log_dir=\"./logs\", write_graph=True, histogram_freq=1)\n"
      ],
      "execution_count": 10,
      "outputs": []
    },
    {
      "cell_type": "markdown",
      "metadata": {
        "id": "FwgWrDz0W_zw"
      },
      "source": [
        "# A háló tanítása és tesztelése"
      ]
    },
    {
      "cell_type": "markdown",
      "metadata": {
        "id": "N8ZabaV9W_zx"
      },
      "source": [
        "Tanítási folyamat és annak a paraméterei. A paraméterek sorát a tanulási adatokkal kell kezdeni. Ez után számos paramétert definiálhatunk, melyek rövid magyarázatát kommentekben olvashatjátok:"
      ]
    },
    {
      "cell_type": "code",
      "metadata": {
        "id": "tcZ_1YuQW_zx",
        "outputId": "d44a0502-4292-4947-b9de-875f1dab5f56",
        "colab": {
          "base_uri": "https://localhost:8080/",
          "height": 1000
        }
      },
      "source": [
        "model.fit(samples_train['input'], samples_train['output'],\n",
        "          # A tanulási folyamat során beállíthatjuk, hogy a tanító adatsorból hány elem kerüljön bele egy-egy\n",
        "          # batch-be.\n",
        "          batch_size=20,\n",
        "          # Tanulási fázisok száma.\n",
        "          epochs=2500,\n",
        "          # Verbose paraméter a tanulás során közli azokat az információkat, amelyek mi szeretnénk kinyerni.\n",
        "          # Értéke lehet 0, 1 és 2\n",
        "          verbose=2, \n",
        "          # A tanulással párhuzamosan a validáció is fut.\n",
        "          validation_data=(samples_valid['input'],samples_valid['output']), \n",
        "          # A korábbiakban már tárgyalt tanulást jellemző metrikákat a history nevű változóban szeretnénk tárolni.\n",
        "          callbacks=[reduce_lr, checkpointer, early_stopping, history, tensorboard_callback], \n",
        "          # A bemenő adatokat keverje meg a program (alapbeállítás: True).\n",
        "          shuffle= True)"
      ],
      "execution_count": 12,
      "outputs": [
        {
          "output_type": "stream",
          "text": [
            "Epoch 1/2500\n",
            "WARNING:tensorflow:From /usr/local/lib/python3.6/dist-packages/tensorflow/python/ops/summary_ops_v2.py:1277: stop (from tensorflow.python.eager.profiler) is deprecated and will be removed after 2020-07-01.\n",
            "Instructions for updating:\n",
            "use `tf.profiler.experimental.stop` instead.\n",
            "WARNING:tensorflow:Callbacks method `on_train_batch_end` is slow compared to the batch time (batch time: 0.0097s vs `on_train_batch_end` time: 0.0340s). Check your callbacks.\n",
            "\n",
            "Epoch 00001: val_loss improved from inf to 0.24901, saving model to weights.hdf5\n",
            "7/7 - 0s - loss: 0.3362 - accuracy: 0.4500 - val_loss: 0.2490 - val_accuracy: 0.5500\n",
            "Epoch 2/2500\n",
            "\n",
            "Epoch 00002: val_loss improved from 0.24901 to 0.24002, saving model to weights.hdf5\n",
            "7/7 - 0s - loss: 0.2464 - accuracy: 0.5429 - val_loss: 0.2400 - val_accuracy: 0.6250\n",
            "Epoch 3/2500\n",
            "\n",
            "Epoch 00003: val_loss improved from 0.24002 to 0.23285, saving model to weights.hdf5\n",
            "7/7 - 0s - loss: 0.2321 - accuracy: 0.6000 - val_loss: 0.2328 - val_accuracy: 0.6750\n",
            "Epoch 4/2500\n",
            "\n",
            "Epoch 00004: val_loss improved from 0.23285 to 0.21975, saving model to weights.hdf5\n",
            "7/7 - 0s - loss: 0.2243 - accuracy: 0.6571 - val_loss: 0.2198 - val_accuracy: 0.6750\n",
            "Epoch 5/2500\n",
            "\n",
            "Epoch 00005: val_loss improved from 0.21975 to 0.21031, saving model to weights.hdf5\n",
            "7/7 - 0s - loss: 0.2122 - accuracy: 0.7000 - val_loss: 0.2103 - val_accuracy: 0.7250\n",
            "Epoch 6/2500\n",
            "\n",
            "Epoch 00006: val_loss improved from 0.21031 to 0.19781, saving model to weights.hdf5\n",
            "7/7 - 0s - loss: 0.1981 - accuracy: 0.7571 - val_loss: 0.1978 - val_accuracy: 0.8000\n",
            "Epoch 7/2500\n",
            "\n",
            "Epoch 00007: val_loss improved from 0.19781 to 0.18847, saving model to weights.hdf5\n",
            "7/7 - 0s - loss: 0.1891 - accuracy: 0.7714 - val_loss: 0.1885 - val_accuracy: 0.8750\n",
            "Epoch 8/2500\n",
            "\n",
            "Epoch 00008: val_loss improved from 0.18847 to 0.17841, saving model to weights.hdf5\n",
            "7/7 - 0s - loss: 0.1805 - accuracy: 0.8786 - val_loss: 0.1784 - val_accuracy: 0.8500\n",
            "Epoch 9/2500\n",
            "\n",
            "Epoch 00009: val_loss improved from 0.17841 to 0.16335, saving model to weights.hdf5\n",
            "7/7 - 0s - loss: 0.1619 - accuracy: 0.8929 - val_loss: 0.1633 - val_accuracy: 0.9250\n",
            "Epoch 10/2500\n",
            "\n",
            "Epoch 00010: val_loss improved from 0.16335 to 0.15035, saving model to weights.hdf5\n",
            "7/7 - 0s - loss: 0.1531 - accuracy: 0.9071 - val_loss: 0.1504 - val_accuracy: 0.9500\n",
            "Epoch 11/2500\n",
            "\n",
            "Epoch 00011: val_loss improved from 0.15035 to 0.13855, saving model to weights.hdf5\n",
            "7/7 - 0s - loss: 0.1402 - accuracy: 0.9071 - val_loss: 0.1385 - val_accuracy: 0.9500\n",
            "Epoch 12/2500\n",
            "\n",
            "Epoch 00012: val_loss improved from 0.13855 to 0.12789, saving model to weights.hdf5\n",
            "7/7 - 0s - loss: 0.1266 - accuracy: 0.9214 - val_loss: 0.1279 - val_accuracy: 0.9500\n",
            "Epoch 13/2500\n",
            "\n",
            "Epoch 00013: val_loss improved from 0.12789 to 0.11816, saving model to weights.hdf5\n",
            "7/7 - 0s - loss: 0.1190 - accuracy: 0.9143 - val_loss: 0.1182 - val_accuracy: 0.9500\n",
            "Epoch 14/2500\n",
            "\n",
            "Epoch 00014: val_loss improved from 0.11816 to 0.11008, saving model to weights.hdf5\n",
            "7/7 - 0s - loss: 0.1086 - accuracy: 0.9143 - val_loss: 0.1101 - val_accuracy: 0.9750\n",
            "Epoch 15/2500\n",
            "\n",
            "Epoch 00015: val_loss improved from 0.11008 to 0.10489, saving model to weights.hdf5\n",
            "7/7 - 0s - loss: 0.1016 - accuracy: 0.9071 - val_loss: 0.1049 - val_accuracy: 0.9750\n",
            "Epoch 16/2500\n",
            "\n",
            "Epoch 00016: val_loss improved from 0.10489 to 0.10027, saving model to weights.hdf5\n",
            "7/7 - 0s - loss: 0.0948 - accuracy: 0.9357 - val_loss: 0.1003 - val_accuracy: 0.9750\n",
            "Epoch 17/2500\n",
            "\n",
            "Epoch 00017: val_loss improved from 0.10027 to 0.09211, saving model to weights.hdf5\n",
            "7/7 - 0s - loss: 0.0902 - accuracy: 0.9214 - val_loss: 0.0921 - val_accuracy: 0.9750\n",
            "Epoch 18/2500\n",
            "\n",
            "Epoch 00018: val_loss improved from 0.09211 to 0.09106, saving model to weights.hdf5\n",
            "7/7 - 0s - loss: 0.0864 - accuracy: 0.9143 - val_loss: 0.0911 - val_accuracy: 0.9750\n",
            "Epoch 19/2500\n",
            "\n",
            "Epoch 00019: val_loss improved from 0.09106 to 0.09025, saving model to weights.hdf5\n",
            "7/7 - 0s - loss: 0.0843 - accuracy: 0.9143 - val_loss: 0.0903 - val_accuracy: 0.9750\n",
            "Epoch 20/2500\n",
            "\n",
            "Epoch 00020: val_loss improved from 0.09025 to 0.08896, saving model to weights.hdf5\n",
            "7/7 - 0s - loss: 0.0788 - accuracy: 0.9357 - val_loss: 0.0890 - val_accuracy: 0.9750\n",
            "Epoch 21/2500\n",
            "\n",
            "Epoch 00021: val_loss improved from 0.08896 to 0.08340, saving model to weights.hdf5\n",
            "7/7 - 0s - loss: 0.0774 - accuracy: 0.9357 - val_loss: 0.0834 - val_accuracy: 0.9750\n",
            "Epoch 22/2500\n",
            "\n",
            "Epoch 00022: val_loss did not improve from 0.08340\n",
            "7/7 - 0s - loss: 0.0749 - accuracy: 0.9214 - val_loss: 0.0869 - val_accuracy: 0.9750\n",
            "Epoch 23/2500\n",
            "\n",
            "Epoch 00023: val_loss improved from 0.08340 to 0.07954, saving model to weights.hdf5\n",
            "7/7 - 0s - loss: 0.0746 - accuracy: 0.9214 - val_loss: 0.0795 - val_accuracy: 0.9750\n",
            "Epoch 24/2500\n",
            "\n",
            "Epoch 00024: val_loss improved from 0.07954 to 0.07891, saving model to weights.hdf5\n",
            "7/7 - 0s - loss: 0.0759 - accuracy: 0.9143 - val_loss: 0.0789 - val_accuracy: 0.9750\n",
            "Epoch 25/2500\n",
            "\n",
            "Epoch 00025: val_loss improved from 0.07891 to 0.07769, saving model to weights.hdf5\n",
            "7/7 - 0s - loss: 0.0738 - accuracy: 0.9286 - val_loss: 0.0777 - val_accuracy: 0.9750\n",
            "Epoch 26/2500\n",
            "\n",
            "Epoch 00026: val_loss improved from 0.07769 to 0.07665, saving model to weights.hdf5\n",
            "7/7 - 0s - loss: 0.0706 - accuracy: 0.9286 - val_loss: 0.0767 - val_accuracy: 0.9750\n",
            "Epoch 27/2500\n",
            "\n",
            "Epoch 00027: val_loss improved from 0.07665 to 0.07444, saving model to weights.hdf5\n",
            "7/7 - 0s - loss: 0.0702 - accuracy: 0.9286 - val_loss: 0.0744 - val_accuracy: 0.9750\n",
            "Epoch 28/2500\n",
            "\n",
            "Epoch 00028: val_loss did not improve from 0.07444\n",
            "7/7 - 0s - loss: 0.0703 - accuracy: 0.9286 - val_loss: 0.0822 - val_accuracy: 0.9750\n",
            "Epoch 29/2500\n",
            "\n",
            "Epoch 00029: val_loss improved from 0.07444 to 0.07066, saving model to weights.hdf5\n",
            "7/7 - 0s - loss: 0.0681 - accuracy: 0.9286 - val_loss: 0.0707 - val_accuracy: 0.9750\n",
            "Epoch 30/2500\n",
            "\n",
            "Epoch 00030: val_loss did not improve from 0.07066\n",
            "7/7 - 0s - loss: 0.0692 - accuracy: 0.9214 - val_loss: 0.0751 - val_accuracy: 0.9750\n",
            "Epoch 31/2500\n",
            "\n",
            "Epoch 00031: val_loss did not improve from 0.07066\n",
            "7/7 - 0s - loss: 0.0686 - accuracy: 0.9429 - val_loss: 0.0760 - val_accuracy: 0.9750\n",
            "Epoch 32/2500\n",
            "\n",
            "Epoch 00032: val_loss improved from 0.07066 to 0.07050, saving model to weights.hdf5\n",
            "7/7 - 0s - loss: 0.0689 - accuracy: 0.9357 - val_loss: 0.0705 - val_accuracy: 0.9750\n",
            "Epoch 33/2500\n",
            "\n",
            "Epoch 00033: val_loss improved from 0.07050 to 0.06935, saving model to weights.hdf5\n",
            "7/7 - 0s - loss: 0.0673 - accuracy: 0.9357 - val_loss: 0.0694 - val_accuracy: 0.9750\n",
            "Epoch 34/2500\n",
            "\n",
            "Epoch 00034: val_loss did not improve from 0.06935\n",
            "7/7 - 0s - loss: 0.0677 - accuracy: 0.9571 - val_loss: 0.0721 - val_accuracy: 0.9750\n",
            "Epoch 35/2500\n",
            "\n",
            "Epoch 00035: val_loss did not improve from 0.06935\n",
            "7/7 - 0s - loss: 0.0670 - accuracy: 0.9286 - val_loss: 0.0739 - val_accuracy: 0.9750\n",
            "Epoch 36/2500\n",
            "\n",
            "Epoch 00036: val_loss did not improve from 0.06935\n",
            "7/7 - 0s - loss: 0.0680 - accuracy: 0.9214 - val_loss: 0.0700 - val_accuracy: 0.9750\n",
            "Epoch 37/2500\n",
            "\n",
            "Epoch 00037: val_loss did not improve from 0.06935\n",
            "7/7 - 0s - loss: 0.0668 - accuracy: 0.9357 - val_loss: 0.0715 - val_accuracy: 0.9750\n",
            "Epoch 38/2500\n",
            "\n",
            "Epoch 00038: val_loss improved from 0.06935 to 0.06625, saving model to weights.hdf5\n",
            "7/7 - 0s - loss: 0.0657 - accuracy: 0.9286 - val_loss: 0.0663 - val_accuracy: 0.9750\n",
            "Epoch 39/2500\n",
            "\n",
            "Epoch 00039: val_loss did not improve from 0.06625\n",
            "7/7 - 0s - loss: 0.0661 - accuracy: 0.9429 - val_loss: 0.0686 - val_accuracy: 0.9750\n",
            "Epoch 40/2500\n",
            "\n",
            "Epoch 00040: val_loss did not improve from 0.06625\n",
            "7/7 - 0s - loss: 0.0654 - accuracy: 0.9357 - val_loss: 0.0802 - val_accuracy: 0.9750\n",
            "Epoch 41/2500\n",
            "\n",
            "Epoch 00041: val_loss did not improve from 0.06625\n",
            "7/7 - 0s - loss: 0.0660 - accuracy: 0.9286 - val_loss: 0.0692 - val_accuracy: 0.9750\n",
            "Epoch 42/2500\n",
            "\n",
            "Epoch 00042: val_loss did not improve from 0.06625\n",
            "7/7 - 0s - loss: 0.0647 - accuracy: 0.9357 - val_loss: 0.0671 - val_accuracy: 0.9750\n",
            "Epoch 43/2500\n",
            "\n",
            "Epoch 00043: val_loss improved from 0.06625 to 0.06535, saving model to weights.hdf5\n",
            "7/7 - 0s - loss: 0.0658 - accuracy: 0.9286 - val_loss: 0.0653 - val_accuracy: 0.9750\n",
            "Epoch 44/2500\n",
            "\n",
            "Epoch 00044: val_loss did not improve from 0.06535\n",
            "7/7 - 0s - loss: 0.0655 - accuracy: 0.9429 - val_loss: 0.0678 - val_accuracy: 0.9750\n",
            "Epoch 45/2500\n",
            "\n",
            "Epoch 00045: val_loss did not improve from 0.06535\n",
            "7/7 - 0s - loss: 0.0653 - accuracy: 0.9286 - val_loss: 0.0654 - val_accuracy: 0.9750\n",
            "Epoch 46/2500\n",
            "\n",
            "Epoch 00046: val_loss improved from 0.06535 to 0.06356, saving model to weights.hdf5\n",
            "7/7 - 0s - loss: 0.0641 - accuracy: 0.9286 - val_loss: 0.0636 - val_accuracy: 0.9750\n",
            "Epoch 47/2500\n",
            "\n",
            "Epoch 00047: val_loss did not improve from 0.06356\n",
            "7/7 - 0s - loss: 0.0648 - accuracy: 0.9429 - val_loss: 0.0638 - val_accuracy: 0.9750\n",
            "Epoch 48/2500\n",
            "\n",
            "Epoch 00048: val_loss did not improve from 0.06356\n",
            "7/7 - 0s - loss: 0.0647 - accuracy: 0.9429 - val_loss: 0.0648 - val_accuracy: 0.9750\n",
            "Epoch 49/2500\n",
            "\n",
            "Epoch 00049: val_loss improved from 0.06356 to 0.06321, saving model to weights.hdf5\n",
            "7/7 - 0s - loss: 0.0629 - accuracy: 0.9286 - val_loss: 0.0632 - val_accuracy: 0.9750\n",
            "Epoch 50/2500\n",
            "\n",
            "Epoch 00050: val_loss improved from 0.06321 to 0.06240, saving model to weights.hdf5\n",
            "7/7 - 0s - loss: 0.0625 - accuracy: 0.9214 - val_loss: 0.0624 - val_accuracy: 0.9750\n",
            "Epoch 51/2500\n",
            "\n",
            "Epoch 00051: val_loss improved from 0.06240 to 0.06219, saving model to weights.hdf5\n",
            "7/7 - 0s - loss: 0.0643 - accuracy: 0.9214 - val_loss: 0.0622 - val_accuracy: 0.9750\n",
            "Epoch 52/2500\n",
            "\n",
            "Epoch 00052: val_loss improved from 0.06219 to 0.05994, saving model to weights.hdf5\n",
            "7/7 - 0s - loss: 0.0628 - accuracy: 0.9429 - val_loss: 0.0599 - val_accuracy: 0.9750\n",
            "Epoch 53/2500\n",
            "\n",
            "Epoch 00053: val_loss did not improve from 0.05994\n",
            "7/7 - 0s - loss: 0.0631 - accuracy: 0.9286 - val_loss: 0.0655 - val_accuracy: 0.9750\n",
            "Epoch 54/2500\n",
            "\n",
            "Epoch 00054: val_loss did not improve from 0.05994\n",
            "7/7 - 0s - loss: 0.0625 - accuracy: 0.9357 - val_loss: 0.0663 - val_accuracy: 0.9750\n",
            "Epoch 55/2500\n",
            "\n",
            "Epoch 00055: val_loss did not improve from 0.05994\n",
            "7/7 - 0s - loss: 0.0633 - accuracy: 0.9357 - val_loss: 0.0628 - val_accuracy: 0.9750\n",
            "Epoch 56/2500\n",
            "\n",
            "Epoch 00056: val_loss did not improve from 0.05994\n",
            "7/7 - 0s - loss: 0.0624 - accuracy: 0.9214 - val_loss: 0.0603 - val_accuracy: 0.9750\n",
            "Epoch 57/2500\n",
            "\n",
            "Epoch 00057: val_loss did not improve from 0.05994\n",
            "7/7 - 0s - loss: 0.0613 - accuracy: 0.9357 - val_loss: 0.0612 - val_accuracy: 0.9750\n",
            "Epoch 58/2500\n",
            "\n",
            "Epoch 00058: val_loss did not improve from 0.05994\n",
            "7/7 - 0s - loss: 0.0604 - accuracy: 0.9357 - val_loss: 0.0678 - val_accuracy: 0.9750\n",
            "Epoch 59/2500\n",
            "\n",
            "Epoch 00059: val_loss improved from 0.05994 to 0.05704, saving model to weights.hdf5\n",
            "7/7 - 0s - loss: 0.0613 - accuracy: 0.9357 - val_loss: 0.0570 - val_accuracy: 0.9750\n",
            "Epoch 60/2500\n",
            "\n",
            "Epoch 00060: val_loss did not improve from 0.05704\n",
            "7/7 - 0s - loss: 0.0616 - accuracy: 0.9357 - val_loss: 0.0630 - val_accuracy: 0.9750\n",
            "Epoch 61/2500\n",
            "\n",
            "Epoch 00061: val_loss did not improve from 0.05704\n",
            "7/7 - 0s - loss: 0.0605 - accuracy: 0.9429 - val_loss: 0.0573 - val_accuracy: 0.9750\n",
            "Epoch 62/2500\n",
            "\n",
            "Epoch 00062: val_loss improved from 0.05704 to 0.05628, saving model to weights.hdf5\n",
            "7/7 - 0s - loss: 0.0624 - accuracy: 0.9286 - val_loss: 0.0563 - val_accuracy: 0.9750\n",
            "Epoch 63/2500\n",
            "\n",
            "Epoch 00063: val_loss did not improve from 0.05628\n",
            "7/7 - 0s - loss: 0.0592 - accuracy: 0.9429 - val_loss: 0.0571 - val_accuracy: 0.9750\n",
            "Epoch 64/2500\n",
            "\n",
            "Epoch 00064: val_loss improved from 0.05628 to 0.05623, saving model to weights.hdf5\n",
            "7/7 - 0s - loss: 0.0611 - accuracy: 0.9357 - val_loss: 0.0562 - val_accuracy: 0.9750\n",
            "Epoch 65/2500\n",
            "\n",
            "Epoch 00065: val_loss did not improve from 0.05623\n",
            "7/7 - 0s - loss: 0.0590 - accuracy: 0.9357 - val_loss: 0.0587 - val_accuracy: 0.9750\n",
            "Epoch 66/2500\n",
            "\n",
            "Epoch 00066: val_loss improved from 0.05623 to 0.05505, saving model to weights.hdf5\n",
            "7/7 - 0s - loss: 0.0582 - accuracy: 0.9429 - val_loss: 0.0551 - val_accuracy: 0.9750\n",
            "Epoch 67/2500\n",
            "\n",
            "Epoch 00067: val_loss did not improve from 0.05505\n",
            "7/7 - 0s - loss: 0.0605 - accuracy: 0.9429 - val_loss: 0.0553 - val_accuracy: 0.9750\n",
            "Epoch 68/2500\n",
            "\n",
            "Epoch 00068: val_loss did not improve from 0.05505\n",
            "7/7 - 0s - loss: 0.0595 - accuracy: 0.9429 - val_loss: 0.0573 - val_accuracy: 0.9750\n",
            "Epoch 69/2500\n",
            "\n",
            "Epoch 00069: val_loss improved from 0.05505 to 0.05221, saving model to weights.hdf5\n",
            "7/7 - 0s - loss: 0.0592 - accuracy: 0.9500 - val_loss: 0.0522 - val_accuracy: 0.9750\n",
            "Epoch 70/2500\n",
            "\n",
            "Epoch 00070: val_loss did not improve from 0.05221\n",
            "7/7 - 0s - loss: 0.0579 - accuracy: 0.9286 - val_loss: 0.0567 - val_accuracy: 0.9750\n",
            "Epoch 71/2500\n",
            "\n",
            "Epoch 00071: val_loss did not improve from 0.05221\n",
            "7/7 - 0s - loss: 0.0581 - accuracy: 0.9429 - val_loss: 0.0560 - val_accuracy: 0.9750\n",
            "Epoch 72/2500\n",
            "\n",
            "Epoch 00072: val_loss did not improve from 0.05221\n",
            "7/7 - 0s - loss: 0.0573 - accuracy: 0.9429 - val_loss: 0.0551 - val_accuracy: 0.9750\n",
            "Epoch 73/2500\n",
            "\n",
            "Epoch 00073: val_loss did not improve from 0.05221\n",
            "7/7 - 0s - loss: 0.0585 - accuracy: 0.9500 - val_loss: 0.0537 - val_accuracy: 0.9750\n",
            "Epoch 74/2500\n",
            "\n",
            "Epoch 00074: val_loss improved from 0.05221 to 0.05218, saving model to weights.hdf5\n",
            "7/7 - 0s - loss: 0.0583 - accuracy: 0.9357 - val_loss: 0.0522 - val_accuracy: 0.9750\n",
            "Epoch 75/2500\n",
            "\n",
            "Epoch 00075: val_loss improved from 0.05218 to 0.05127, saving model to weights.hdf5\n",
            "7/7 - 0s - loss: 0.0574 - accuracy: 0.9429 - val_loss: 0.0513 - val_accuracy: 0.9750\n",
            "Epoch 76/2500\n",
            "\n",
            "Epoch 00076: val_loss did not improve from 0.05127\n",
            "7/7 - 0s - loss: 0.0571 - accuracy: 0.9429 - val_loss: 0.0520 - val_accuracy: 0.9750\n",
            "Epoch 77/2500\n",
            "\n",
            "Epoch 00077: val_loss did not improve from 0.05127\n",
            "7/7 - 0s - loss: 0.0566 - accuracy: 0.9500 - val_loss: 0.0524 - val_accuracy: 0.9750\n",
            "Epoch 78/2500\n",
            "\n",
            "Epoch 00078: val_loss did not improve from 0.05127\n",
            "7/7 - 0s - loss: 0.0557 - accuracy: 0.9571 - val_loss: 0.0531 - val_accuracy: 0.9750\n",
            "Epoch 79/2500\n",
            "\n",
            "Epoch 00079: val_loss improved from 0.05127 to 0.04962, saving model to weights.hdf5\n",
            "7/7 - 0s - loss: 0.0566 - accuracy: 0.9357 - val_loss: 0.0496 - val_accuracy: 0.9750\n",
            "Epoch 80/2500\n",
            "\n",
            "Epoch 00080: val_loss improved from 0.04962 to 0.04946, saving model to weights.hdf5\n",
            "7/7 - 0s - loss: 0.0562 - accuracy: 0.9429 - val_loss: 0.0495 - val_accuracy: 0.9750\n",
            "Epoch 81/2500\n",
            "\n",
            "Epoch 00081: val_loss did not improve from 0.04946\n",
            "7/7 - 0s - loss: 0.0555 - accuracy: 0.9357 - val_loss: 0.0535 - val_accuracy: 0.9750\n",
            "Epoch 82/2500\n",
            "\n",
            "Epoch 00082: val_loss improved from 0.04946 to 0.04795, saving model to weights.hdf5\n",
            "7/7 - 0s - loss: 0.0560 - accuracy: 0.9500 - val_loss: 0.0479 - val_accuracy: 0.9750\n",
            "Epoch 83/2500\n",
            "\n",
            "Epoch 00083: val_loss did not improve from 0.04795\n",
            "7/7 - 0s - loss: 0.0560 - accuracy: 0.9357 - val_loss: 0.0498 - val_accuracy: 0.9750\n",
            "Epoch 84/2500\n",
            "\n",
            "Epoch 00084: val_loss improved from 0.04795 to 0.04716, saving model to weights.hdf5\n",
            "7/7 - 0s - loss: 0.0556 - accuracy: 0.9500 - val_loss: 0.0472 - val_accuracy: 0.9750\n",
            "Epoch 85/2500\n",
            "\n",
            "Epoch 00085: val_loss did not improve from 0.04716\n",
            "7/7 - 0s - loss: 0.0554 - accuracy: 0.9429 - val_loss: 0.0489 - val_accuracy: 0.9750\n",
            "Epoch 86/2500\n",
            "\n",
            "Epoch 00086: val_loss did not improve from 0.04716\n",
            "7/7 - 0s - loss: 0.0552 - accuracy: 0.9429 - val_loss: 0.0503 - val_accuracy: 0.9750\n",
            "Epoch 87/2500\n",
            "\n",
            "Epoch 00087: val_loss did not improve from 0.04716\n",
            "7/7 - 0s - loss: 0.0552 - accuracy: 0.9571 - val_loss: 0.0489 - val_accuracy: 0.9750\n",
            "Epoch 88/2500\n",
            "\n",
            "Epoch 00088: val_loss did not improve from 0.04716\n",
            "7/7 - 0s - loss: 0.0552 - accuracy: 0.9357 - val_loss: 0.0483 - val_accuracy: 0.9750\n",
            "Epoch 89/2500\n",
            "\n",
            "Epoch 00089: val_loss did not improve from 0.04716\n",
            "7/7 - 0s - loss: 0.0542 - accuracy: 0.9500 - val_loss: 0.0502 - val_accuracy: 0.9750\n",
            "Epoch 90/2500\n",
            "\n",
            "Epoch 00090: val_loss improved from 0.04716 to 0.04653, saving model to weights.hdf5\n",
            "7/7 - 0s - loss: 0.0531 - accuracy: 0.9500 - val_loss: 0.0465 - val_accuracy: 0.9750\n",
            "Epoch 91/2500\n",
            "\n",
            "Epoch 00091: val_loss improved from 0.04653 to 0.04517, saving model to weights.hdf5\n",
            "7/7 - 0s - loss: 0.0542 - accuracy: 0.9429 - val_loss: 0.0452 - val_accuracy: 0.9750\n",
            "Epoch 92/2500\n",
            "\n",
            "Epoch 00092: val_loss did not improve from 0.04517\n",
            "7/7 - 0s - loss: 0.0547 - accuracy: 0.9429 - val_loss: 0.0452 - val_accuracy: 0.9750\n",
            "Epoch 93/2500\n",
            "\n",
            "Epoch 00093: val_loss did not improve from 0.04517\n",
            "7/7 - 0s - loss: 0.0535 - accuracy: 0.9571 - val_loss: 0.0462 - val_accuracy: 0.9750\n",
            "Epoch 94/2500\n",
            "\n",
            "Epoch 00094: val_loss did not improve from 0.04517\n",
            "7/7 - 0s - loss: 0.0526 - accuracy: 0.9500 - val_loss: 0.0467 - val_accuracy: 0.9750\n",
            "Epoch 95/2500\n",
            "\n",
            "Epoch 00095: val_loss did not improve from 0.04517\n",
            "7/7 - 0s - loss: 0.0530 - accuracy: 0.9571 - val_loss: 0.0454 - val_accuracy: 0.9750\n",
            "Epoch 96/2500\n",
            "\n",
            "Epoch 00096: val_loss did not improve from 0.04517\n",
            "7/7 - 0s - loss: 0.0530 - accuracy: 0.9429 - val_loss: 0.0468 - val_accuracy: 0.9750\n",
            "Epoch 97/2500\n",
            "\n",
            "Epoch 00097: val_loss improved from 0.04517 to 0.04515, saving model to weights.hdf5\n",
            "7/7 - 0s - loss: 0.0521 - accuracy: 0.9571 - val_loss: 0.0452 - val_accuracy: 0.9750\n",
            "Epoch 98/2500\n",
            "\n",
            "Epoch 00098: val_loss did not improve from 0.04515\n",
            "7/7 - 0s - loss: 0.0514 - accuracy: 0.9500 - val_loss: 0.0468 - val_accuracy: 0.9750\n",
            "Epoch 99/2500\n",
            "\n",
            "Epoch 00099: val_loss did not improve from 0.04515\n",
            "7/7 - 0s - loss: 0.0521 - accuracy: 0.9500 - val_loss: 0.0459 - val_accuracy: 0.9750\n",
            "Epoch 100/2500\n",
            "\n",
            "Epoch 00100: val_loss did not improve from 0.04515\n",
            "7/7 - 0s - loss: 0.0515 - accuracy: 0.9643 - val_loss: 0.0453 - val_accuracy: 0.9750\n",
            "Epoch 101/2500\n",
            "\n",
            "Epoch 00101: val_loss improved from 0.04515 to 0.04421, saving model to weights.hdf5\n",
            "7/7 - 0s - loss: 0.0516 - accuracy: 0.9429 - val_loss: 0.0442 - val_accuracy: 0.9750\n",
            "Epoch 102/2500\n",
            "\n",
            "Epoch 00102: val_loss did not improve from 0.04421\n",
            "7/7 - 0s - loss: 0.0515 - accuracy: 0.9571 - val_loss: 0.0444 - val_accuracy: 0.9750\n",
            "Epoch 103/2500\n",
            "\n",
            "Epoch 00103: val_loss improved from 0.04421 to 0.04369, saving model to weights.hdf5\n",
            "7/7 - 0s - loss: 0.0505 - accuracy: 0.9571 - val_loss: 0.0437 - val_accuracy: 0.9750\n",
            "Epoch 104/2500\n",
            "\n",
            "Epoch 00104: val_loss did not improve from 0.04369\n",
            "7/7 - 0s - loss: 0.0509 - accuracy: 0.9500 - val_loss: 0.0446 - val_accuracy: 0.9750\n",
            "Epoch 105/2500\n",
            "\n",
            "Epoch 00105: val_loss did not improve from 0.04369\n",
            "7/7 - 0s - loss: 0.0505 - accuracy: 0.9571 - val_loss: 0.0444 - val_accuracy: 0.9750\n",
            "Epoch 106/2500\n",
            "\n",
            "Epoch 00106: val_loss did not improve from 0.04369\n",
            "7/7 - 0s - loss: 0.0505 - accuracy: 0.9643 - val_loss: 0.0440 - val_accuracy: 0.9750\n",
            "Epoch 107/2500\n",
            "\n",
            "Epoch 00107: val_loss improved from 0.04369 to 0.04342, saving model to weights.hdf5\n",
            "7/7 - 0s - loss: 0.0504 - accuracy: 0.9571 - val_loss: 0.0434 - val_accuracy: 0.9750\n",
            "Epoch 108/2500\n",
            "\n",
            "Epoch 00108: val_loss did not improve from 0.04342\n",
            "7/7 - 0s - loss: 0.0490 - accuracy: 0.9500 - val_loss: 0.0468 - val_accuracy: 0.9750\n",
            "Epoch 109/2500\n",
            "\n",
            "Epoch 00109: val_loss improved from 0.04342 to 0.04337, saving model to weights.hdf5\n",
            "7/7 - 0s - loss: 0.0488 - accuracy: 0.9571 - val_loss: 0.0434 - val_accuracy: 0.9750\n",
            "Epoch 110/2500\n",
            "\n",
            "Epoch 00110: val_loss improved from 0.04337 to 0.04266, saving model to weights.hdf5\n",
            "7/7 - 0s - loss: 0.0504 - accuracy: 0.9571 - val_loss: 0.0427 - val_accuracy: 0.9750\n",
            "Epoch 111/2500\n",
            "\n",
            "Epoch 00111: val_loss did not improve from 0.04266\n",
            "7/7 - 0s - loss: 0.0486 - accuracy: 0.9571 - val_loss: 0.0440 - val_accuracy: 0.9750\n",
            "Epoch 112/2500\n",
            "\n",
            "Epoch 00112: val_loss did not improve from 0.04266\n",
            "7/7 - 0s - loss: 0.0488 - accuracy: 0.9643 - val_loss: 0.0435 - val_accuracy: 0.9750\n",
            "Epoch 113/2500\n",
            "\n",
            "Epoch 00113: val_loss improved from 0.04266 to 0.04194, saving model to weights.hdf5\n",
            "7/7 - 0s - loss: 0.0500 - accuracy: 0.9571 - val_loss: 0.0419 - val_accuracy: 0.9750\n",
            "Epoch 114/2500\n",
            "\n",
            "Epoch 00114: val_loss improved from 0.04194 to 0.04174, saving model to weights.hdf5\n",
            "7/7 - 0s - loss: 0.0477 - accuracy: 0.9500 - val_loss: 0.0417 - val_accuracy: 0.9750\n",
            "Epoch 115/2500\n",
            "\n",
            "Epoch 00115: val_loss did not improve from 0.04174\n",
            "7/7 - 0s - loss: 0.0483 - accuracy: 0.9500 - val_loss: 0.0437 - val_accuracy: 0.9750\n",
            "Epoch 116/2500\n",
            "\n",
            "Epoch 00116: val_loss did not improve from 0.04174\n",
            "7/7 - 0s - loss: 0.0480 - accuracy: 0.9643 - val_loss: 0.0424 - val_accuracy: 0.9750\n",
            "Epoch 117/2500\n",
            "\n",
            "Epoch 00117: val_loss improved from 0.04174 to 0.04134, saving model to weights.hdf5\n",
            "7/7 - 0s - loss: 0.0476 - accuracy: 0.9643 - val_loss: 0.0413 - val_accuracy: 0.9750\n",
            "Epoch 118/2500\n",
            "\n",
            "Epoch 00118: val_loss did not improve from 0.04134\n",
            "7/7 - 0s - loss: 0.0472 - accuracy: 0.9500 - val_loss: 0.0424 - val_accuracy: 0.9750\n",
            "Epoch 119/2500\n",
            "\n",
            "Epoch 00119: val_loss improved from 0.04134 to 0.04097, saving model to weights.hdf5\n",
            "7/7 - 0s - loss: 0.0467 - accuracy: 0.9571 - val_loss: 0.0410 - val_accuracy: 0.9750\n",
            "Epoch 120/2500\n",
            "\n",
            "Epoch 00120: val_loss did not improve from 0.04097\n",
            "7/7 - 0s - loss: 0.0473 - accuracy: 0.9643 - val_loss: 0.0413 - val_accuracy: 0.9750\n",
            "Epoch 121/2500\n",
            "\n",
            "Epoch 00121: val_loss did not improve from 0.04097\n",
            "7/7 - 0s - loss: 0.0485 - accuracy: 0.9571 - val_loss: 0.0413 - val_accuracy: 0.9750\n",
            "Epoch 122/2500\n",
            "\n",
            "Epoch 00122: val_loss did not improve from 0.04097\n",
            "7/7 - 0s - loss: 0.0459 - accuracy: 0.9571 - val_loss: 0.0416 - val_accuracy: 0.9750\n",
            "Epoch 123/2500\n",
            "\n",
            "Epoch 00123: val_loss improved from 0.04097 to 0.04076, saving model to weights.hdf5\n",
            "7/7 - 0s - loss: 0.0470 - accuracy: 0.9571 - val_loss: 0.0408 - val_accuracy: 0.9750\n",
            "Epoch 124/2500\n",
            "\n",
            "Epoch 00124: val_loss did not improve from 0.04076\n",
            "7/7 - 0s - loss: 0.0478 - accuracy: 0.9500 - val_loss: 0.0416 - val_accuracy: 0.9750\n",
            "Epoch 125/2500\n",
            "\n",
            "Epoch 00125: val_loss did not improve from 0.04076\n",
            "7/7 - 0s - loss: 0.0460 - accuracy: 0.9643 - val_loss: 0.0423 - val_accuracy: 0.9750\n",
            "Epoch 126/2500\n",
            "\n",
            "Epoch 00126: val_loss improved from 0.04076 to 0.04010, saving model to weights.hdf5\n",
            "7/7 - 0s - loss: 0.0458 - accuracy: 0.9643 - val_loss: 0.0401 - val_accuracy: 0.9750\n",
            "Epoch 127/2500\n",
            "\n",
            "Epoch 00127: val_loss improved from 0.04010 to 0.03991, saving model to weights.hdf5\n",
            "7/7 - 0s - loss: 0.0457 - accuracy: 0.9643 - val_loss: 0.0399 - val_accuracy: 0.9750\n",
            "Epoch 128/2500\n",
            "\n",
            "Epoch 00128: val_loss did not improve from 0.03991\n",
            "7/7 - 0s - loss: 0.0450 - accuracy: 0.9571 - val_loss: 0.0424 - val_accuracy: 0.9750\n",
            "Epoch 129/2500\n",
            "\n",
            "Epoch 00129: val_loss did not improve from 0.03991\n",
            "7/7 - 0s - loss: 0.0456 - accuracy: 0.9500 - val_loss: 0.0407 - val_accuracy: 0.9750\n",
            "Epoch 130/2500\n",
            "\n",
            "Epoch 00130: val_loss did not improve from 0.03991\n",
            "7/7 - 0s - loss: 0.0448 - accuracy: 0.9500 - val_loss: 0.0399 - val_accuracy: 0.9750\n",
            "Epoch 131/2500\n",
            "\n",
            "Epoch 00131: val_loss did not improve from 0.03991\n",
            "7/7 - 0s - loss: 0.0450 - accuracy: 0.9571 - val_loss: 0.0410 - val_accuracy: 0.9750\n",
            "Epoch 132/2500\n",
            "\n",
            "Epoch 00132: val_loss did not improve from 0.03991\n",
            "7/7 - 0s - loss: 0.0443 - accuracy: 0.9643 - val_loss: 0.0403 - val_accuracy: 0.9750\n",
            "Epoch 133/2500\n",
            "\n",
            "Epoch 00133: val_loss did not improve from 0.03991\n",
            "7/7 - 0s - loss: 0.0453 - accuracy: 0.9571 - val_loss: 0.0435 - val_accuracy: 0.9750\n",
            "Epoch 134/2500\n",
            "\n",
            "Epoch 00134: val_loss improved from 0.03991 to 0.03794, saving model to weights.hdf5\n",
            "7/7 - 0s - loss: 0.0447 - accuracy: 0.9643 - val_loss: 0.0379 - val_accuracy: 0.9750\n",
            "Epoch 135/2500\n",
            "\n",
            "Epoch 00135: val_loss did not improve from 0.03794\n",
            "7/7 - 0s - loss: 0.0452 - accuracy: 0.9571 - val_loss: 0.0392 - val_accuracy: 0.9750\n",
            "Epoch 136/2500\n",
            "\n",
            "Epoch 00136: val_loss did not improve from 0.03794\n",
            "7/7 - 0s - loss: 0.0447 - accuracy: 0.9571 - val_loss: 0.0395 - val_accuracy: 0.9750\n",
            "Epoch 137/2500\n",
            "\n",
            "Epoch 00137: val_loss did not improve from 0.03794\n",
            "7/7 - 0s - loss: 0.0443 - accuracy: 0.9571 - val_loss: 0.0412 - val_accuracy: 0.9750\n",
            "Epoch 138/2500\n",
            "\n",
            "Epoch 00138: val_loss did not improve from 0.03794\n",
            "7/7 - 0s - loss: 0.0443 - accuracy: 0.9571 - val_loss: 0.0381 - val_accuracy: 0.9750\n",
            "Epoch 139/2500\n",
            "\n",
            "Epoch 00139: val_loss did not improve from 0.03794\n",
            "7/7 - 0s - loss: 0.0440 - accuracy: 0.9571 - val_loss: 0.0391 - val_accuracy: 0.9750\n",
            "Epoch 140/2500\n",
            "\n",
            "Epoch 00140: val_loss did not improve from 0.03794\n",
            "7/7 - 0s - loss: 0.0441 - accuracy: 0.9429 - val_loss: 0.0390 - val_accuracy: 0.9750\n",
            "Epoch 141/2500\n",
            "\n",
            "Epoch 00141: val_loss did not improve from 0.03794\n",
            "7/7 - 0s - loss: 0.0446 - accuracy: 0.9571 - val_loss: 0.0386 - val_accuracy: 0.9750\n",
            "Epoch 142/2500\n",
            "\n",
            "Epoch 00142: val_loss did not improve from 0.03794\n",
            "7/7 - 0s - loss: 0.0428 - accuracy: 0.9571 - val_loss: 0.0417 - val_accuracy: 0.9750\n",
            "Epoch 143/2500\n",
            "\n",
            "Epoch 00143: val_loss improved from 0.03794 to 0.03774, saving model to weights.hdf5\n",
            "7/7 - 0s - loss: 0.0437 - accuracy: 0.9571 - val_loss: 0.0377 - val_accuracy: 0.9750\n",
            "Epoch 144/2500\n",
            "\n",
            "Epoch 00144: val_loss improved from 0.03774 to 0.03772, saving model to weights.hdf5\n",
            "7/7 - 0s - loss: 0.0433 - accuracy: 0.9571 - val_loss: 0.0377 - val_accuracy: 0.9750\n",
            "Epoch 145/2500\n",
            "\n",
            "Epoch 00145: val_loss did not improve from 0.03772\n",
            "7/7 - 0s - loss: 0.0426 - accuracy: 0.9571 - val_loss: 0.0392 - val_accuracy: 0.9750\n",
            "Epoch 146/2500\n",
            "\n",
            "Epoch 00146: val_loss did not improve from 0.03772\n",
            "7/7 - 0s - loss: 0.0436 - accuracy: 0.9571 - val_loss: 0.0383 - val_accuracy: 0.9750\n",
            "Epoch 147/2500\n",
            "\n",
            "Epoch 00147: val_loss did not improve from 0.03772\n",
            "7/7 - 0s - loss: 0.0431 - accuracy: 0.9500 - val_loss: 0.0393 - val_accuracy: 0.9750\n",
            "Epoch 148/2500\n",
            "\n",
            "Epoch 00148: val_loss did not improve from 0.03772\n",
            "7/7 - 0s - loss: 0.0424 - accuracy: 0.9571 - val_loss: 0.0401 - val_accuracy: 0.9750\n",
            "Epoch 149/2500\n",
            "\n",
            "Epoch 00149: val_loss did not improve from 0.03772\n",
            "7/7 - 0s - loss: 0.0426 - accuracy: 0.9571 - val_loss: 0.0381 - val_accuracy: 0.9750\n",
            "Epoch 150/2500\n",
            "\n",
            "Epoch 00150: val_loss improved from 0.03772 to 0.03743, saving model to weights.hdf5\n",
            "7/7 - 0s - loss: 0.0424 - accuracy: 0.9571 - val_loss: 0.0374 - val_accuracy: 0.9750\n",
            "Epoch 151/2500\n",
            "\n",
            "Epoch 00151: val_loss did not improve from 0.03743\n",
            "7/7 - 0s - loss: 0.0423 - accuracy: 0.9500 - val_loss: 0.0408 - val_accuracy: 0.9750\n",
            "Epoch 152/2500\n",
            "\n",
            "Epoch 00152: val_loss improved from 0.03743 to 0.03696, saving model to weights.hdf5\n",
            "7/7 - 0s - loss: 0.0430 - accuracy: 0.9571 - val_loss: 0.0370 - val_accuracy: 0.9750\n",
            "Epoch 153/2500\n",
            "\n",
            "Epoch 00153: val_loss did not improve from 0.03696\n",
            "7/7 - 0s - loss: 0.0439 - accuracy: 0.9500 - val_loss: 0.0374 - val_accuracy: 0.9750\n",
            "Epoch 154/2500\n",
            "\n",
            "Epoch 00154: val_loss did not improve from 0.03696\n",
            "7/7 - 0s - loss: 0.0421 - accuracy: 0.9643 - val_loss: 0.0380 - val_accuracy: 0.9750\n",
            "Epoch 155/2500\n",
            "\n",
            "Epoch 00155: val_loss did not improve from 0.03696\n",
            "7/7 - 0s - loss: 0.0419 - accuracy: 0.9571 - val_loss: 0.0374 - val_accuracy: 0.9750\n",
            "Epoch 156/2500\n",
            "\n",
            "Epoch 00156: val_loss did not improve from 0.03696\n",
            "7/7 - 0s - loss: 0.0413 - accuracy: 0.9571 - val_loss: 0.0389 - val_accuracy: 0.9750\n",
            "Epoch 157/2500\n",
            "\n",
            "Epoch 00157: val_loss did not improve from 0.03696\n",
            "7/7 - 0s - loss: 0.0416 - accuracy: 0.9571 - val_loss: 0.0385 - val_accuracy: 0.9750\n",
            "Epoch 158/2500\n",
            "\n",
            "Epoch 00158: val_loss improved from 0.03696 to 0.03568, saving model to weights.hdf5\n",
            "7/7 - 0s - loss: 0.0423 - accuracy: 0.9571 - val_loss: 0.0357 - val_accuracy: 0.9750\n",
            "Epoch 159/2500\n",
            "\n",
            "Epoch 00159: val_loss did not improve from 0.03568\n",
            "7/7 - 0s - loss: 0.0414 - accuracy: 0.9571 - val_loss: 0.0386 - val_accuracy: 0.9750\n",
            "Epoch 160/2500\n",
            "\n",
            "Epoch 00160: val_loss did not improve from 0.03568\n",
            "7/7 - 0s - loss: 0.0416 - accuracy: 0.9571 - val_loss: 0.0373 - val_accuracy: 0.9750\n",
            "Epoch 161/2500\n",
            "\n",
            "Epoch 00161: val_loss did not improve from 0.03568\n",
            "7/7 - 0s - loss: 0.0411 - accuracy: 0.9571 - val_loss: 0.0379 - val_accuracy: 0.9750\n",
            "Epoch 162/2500\n",
            "\n",
            "Epoch 00162: val_loss did not improve from 0.03568\n",
            "7/7 - 0s - loss: 0.0419 - accuracy: 0.9571 - val_loss: 0.0367 - val_accuracy: 0.9750\n",
            "Epoch 163/2500\n",
            "\n",
            "Epoch 00163: val_loss did not improve from 0.03568\n",
            "7/7 - 0s - loss: 0.0408 - accuracy: 0.9500 - val_loss: 0.0364 - val_accuracy: 0.9750\n",
            "Epoch 164/2500\n",
            "\n",
            "Epoch 00164: val_loss did not improve from 0.03568\n",
            "7/7 - 0s - loss: 0.0409 - accuracy: 0.9571 - val_loss: 0.0363 - val_accuracy: 0.9750\n",
            "Epoch 165/2500\n",
            "\n",
            "Epoch 00165: val_loss did not improve from 0.03568\n",
            "7/7 - 0s - loss: 0.0418 - accuracy: 0.9571 - val_loss: 0.0368 - val_accuracy: 0.9750\n",
            "Epoch 166/2500\n",
            "\n",
            "Epoch 00166: val_loss did not improve from 0.03568\n",
            "7/7 - 0s - loss: 0.0408 - accuracy: 0.9500 - val_loss: 0.0365 - val_accuracy: 0.9750\n",
            "Epoch 167/2500\n",
            "\n",
            "Epoch 00167: val_loss did not improve from 0.03568\n",
            "7/7 - 0s - loss: 0.0403 - accuracy: 0.9643 - val_loss: 0.0380 - val_accuracy: 0.9750\n",
            "Epoch 168/2500\n",
            "\n",
            "Epoch 00168: val_loss did not improve from 0.03568\n",
            "7/7 - 0s - loss: 0.0419 - accuracy: 0.9571 - val_loss: 0.0390 - val_accuracy: 0.9750\n",
            "Epoch 00168: early stopping\n"
          ],
          "name": "stdout"
        },
        {
          "output_type": "execute_result",
          "data": {
            "text/plain": [
              "<tensorflow.python.keras.callbacks.History at 0x7fcdbc361780>"
            ]
          },
          "metadata": {
            "tags": []
          },
          "execution_count": 12
        }
      ]
    },
    {
      "cell_type": "markdown",
      "metadata": {
        "id": "YiwOBR5-W_zz"
      },
      "source": [
        "A hálózat hibájának megjelenítése mint a tanító, mind a validációs adathalmazon:"
      ]
    },
    {
      "cell_type": "code",
      "metadata": {
        "id": "CoUCBy5SW_z0",
        "outputId": "c7dca369-aafd-43a0-ae82-8fdb6e0b6fe9",
        "colab": {
          "base_uri": "https://localhost:8080/",
          "height": 350
        }
      },
      "source": [
        "plt.figure(figsize=(10, 5))\n",
        "plt.title('Hiba mértéke')\n",
        "plt.plot(np.arange(history.epoch), history.losses, color ='g', label='Hiba mértéke a tanító adatokon') \n",
        "plt.plot(np.arange(history.epoch), history.valid_losses, color ='b', label='Hiba mértéke a validációs adatokon')\n",
        "plt.legend(loc='upper right')\n",
        "plt.xlabel('Tanulási iterációk száma')\n",
        "plt.ylabel('y')\n",
        "plt.grid(True)\n",
        "plt.show()"
      ],
      "execution_count": 13,
      "outputs": [
        {
          "output_type": "display_data",
          "data": {
            "image/png": "[encoded data removed]",
            "text/plain": [
              "<Figure size 720x360 with 1 Axes>"
            ]
          },
          "metadata": {
            "tags": [],
            "needs_background": "light"
          }
        }
      ]
    },
    {
      "cell_type": "markdown",
      "metadata": {
        "id": "hEmX-___W_z2"
      },
      "source": [
        "Tesztelés és megjelenítés fázisa:"
      ]
    },
    {
      "cell_type": "code",
      "metadata": {
        "id": "JjdWQHJ1W_z2",
        "outputId": "ebc36af6-b07b-4dfe-ba73-cee3de9a1cd5",
        "colab": {
          "base_uri": "https://localhost:8080/",
          "height": 298
        }
      },
      "source": [
        "# a legjobb modell visszatöltése\n",
        "from keras.models import load_model\n",
        "model = load_model('weights.hdf5')\n",
        "# teszt adatokkal prediktálás\n",
        "preds=model.predict(samples_test['input'])\n",
        "# hiba számítása a teszt adatokon\n",
        "from sklearn.metrics import mean_squared_error\n",
        "test_mse = mean_squared_error(samples_test['output'],preds)\n",
        "print(\"Test MSE: %f\" % (test_mse))\n",
        "# predikció megjelenítése\n",
        "fig1=plt.figure()\n",
        "plt.scatter(samples_test['input'][:,0], \\\n",
        "            samples_test['input'][:,1], \\\n",
        "            c=np.round(preds[:,0]), cmap=plt.cm.cool)"
      ],
      "execution_count": 14,
      "outputs": [
        {
          "output_type": "stream",
          "text": [
            "Test MSE: 0.085188\n"
          ],
          "name": "stdout"
        },
        {
          "output_type": "execute_result",
          "data": {
            "text/plain": [
              "<matplotlib.collections.PathCollection at 0x7fcdb86e1ba8>"
            ]
          },
          "metadata": {
            "tags": []
          },
          "execution_count": 14
        },
        {
          "output_type": "display_data",
          "data": {
            "image/png": "[encoded data removed]",
            "text/plain": [
              "<Figure size 432x288 with 1 Axes>"
            ]
          },
          "metadata": {
            "tags": [],
            "needs_background": "light"
          }
        }
      ]
    },
    {
      "cell_type": "markdown",
      "metadata": {
        "id": "bceTbd15W_z4"
      },
      "source": [
        "# A modell vizsgálata"
      ]
    },
    {
      "cell_type": "code",
      "metadata": {
        "id": "sjMG6XVsW_z4",
        "outputId": "384c56d7-94d9-427e-8d53-8858f7957ca6",
        "colab": {
          "base_uri": "https://localhost:8080/",
          "height": 286
        }
      },
      "source": [
        "model.summary()"
      ],
      "execution_count": 15,
      "outputs": [
        {
          "output_type": "stream",
          "text": [
            "Model: \"sequential\"\n",
            "_________________________________________________________________\n",
            "Layer (type)                 Output Shape              Param #   \n",
            "=================================================================\n",
            "dense (Dense)                (None, 10)                30        \n",
            "_________________________________________________________________\n",
            "activation (Activation)      (None, 10)                0         \n",
            "_________________________________________________________________\n",
            "dense_1 (Dense)              (None, 1)                 11        \n",
            "_________________________________________________________________\n",
            "activation_1 (Activation)    (None, 1)                 0         \n",
            "=================================================================\n",
            "Total params: 41\n",
            "Trainable params: 41\n",
            "Non-trainable params: 0\n",
            "_________________________________________________________________\n"
          ],
          "name": "stdout"
        }
      ]
    },
    {
      "cell_type": "code",
      "metadata": {
        "id": "RKMXSk48W_z6",
        "outputId": "153e323a-e907-45f5-c513-d86c8e79397a",
        "colab": {
          "base_uri": "https://localhost:8080/",
          "height": 272
        }
      },
      "source": [
        "print('Rétegek:\\n')\n",
        "for layer in model.layers:\n",
        "    print(\"Réteg neve: \", layer.name, ', tanítható: ', layer.trainable)\n",
        "    print(layer.get_config(),'\\n')"
      ],
      "execution_count": 16,
      "outputs": [
        {
          "output_type": "stream",
          "text": [
            "Rétegek:\n",
            "\n",
            "Réteg neve:  dense , tanítható:  True\n",
            "{'name': 'dense', 'trainable': True, 'batch_input_shape': (None, 2), 'dtype': 'float32', 'units': 10, 'activation': 'linear', 'use_bias': True, 'kernel_initializer': {'class_name': 'GlorotUniform', 'config': {'seed': None}}, 'bias_initializer': {'class_name': 'Zeros', 'config': {}}, 'kernel_regularizer': None, 'bias_regularizer': None, 'activity_regularizer': None, 'kernel_constraint': None, 'bias_constraint': None} \n",
            "\n",
            "Réteg neve:  activation , tanítható:  True\n",
            "{'name': 'activation', 'trainable': True, 'dtype': 'float32', 'activation': 'tanh'} \n",
            "\n",
            "Réteg neve:  dense_1 , tanítható:  True\n",
            "{'name': 'dense_1', 'trainable': True, 'dtype': 'float32', 'units': 1, 'activation': 'linear', 'use_bias': True, 'kernel_initializer': {'class_name': 'GlorotUniform', 'config': {'seed': None}}, 'bias_initializer': {'class_name': 'Zeros', 'config': {}}, 'kernel_regularizer': None, 'bias_regularizer': None, 'activity_regularizer': None, 'kernel_constraint': None, 'bias_constraint': None} \n",
            "\n",
            "Réteg neve:  activation_1 , tanítható:  True\n",
            "{'name': 'activation_1', 'trainable': True, 'dtype': 'float32', 'activation': 'tanh'} \n",
            "\n"
          ],
          "name": "stdout"
        }
      ]
    },
    {
      "cell_type": "code",
      "metadata": {
        "id": "uk-_OD82W_z8",
        "outputId": "6f8b6bac-3cfc-44b8-d281-f2337f9da226",
        "colab": {
          "base_uri": "https://localhost:8080/",
          "height": 353
        }
      },
      "source": [
        "print(\"Súlyok:\")\n",
        "i=0\n",
        "for layer in model.layers:\n",
        "    print(model.get_layer(index=i).get_weights())\n",
        "    i=i+1"
      ],
      "execution_count": 18,
      "outputs": [
        {
          "output_type": "stream",
          "text": [
            "Súlyok:\n",
            "[array([[-1.1132982 ,  0.91418874,  0.33670413,  1.248441  ,  0.7655846 ,\n",
            "        -0.5685106 ,  0.43758762, -0.6134678 , -0.23500486, -0.23445298],\n",
            "       [-1.0522449 ,  1.1179367 , -1.1344829 , -0.26735094, -0.34990886,\n",
            "        -0.5609605 ,  0.3962297 ,  0.61603725,  0.82495487, -0.3420721 ]],\n",
            "      dtype=float32), array([-0.6122738 , -0.60420924,  0.69239825,  0.68226373, -0.3385138 ,\n",
            "        0.23404048,  0.33103642,  0.532131  ,  0.27278692,  0.39331743],\n",
            "      dtype=float32)]\n",
            "[]\n",
            "[array([[-1.1326171 ],\n",
            "       [-0.9195897 ],\n",
            "       [-0.8069439 ],\n",
            "       [-0.9411497 ],\n",
            "       [ 0.42791283],\n",
            "       [ 0.1865891 ],\n",
            "       [ 0.57970047],\n",
            "       [-0.7529411 ],\n",
            "       [-0.39304328],\n",
            "       [ 0.55099297]], dtype=float32), array([0.7712255], dtype=float32)]\n",
            "[]\n"
          ],
          "name": "stdout"
        }
      ]
    },
    {
      "cell_type": "markdown",
      "metadata": {
        "id": "F5MJTjctXpvX"
      },
      "source": [
        "## TensorBoard-os logok vizsgálata"
      ]
    },
    {
      "cell_type": "code",
      "metadata": {
        "id": "BUfRUWYtXtoH"
      },
      "source": [
        "%load_ext tensorboard\n"
      ],
      "execution_count": 19,
      "outputs": []
    },
    {
      "cell_type": "code",
      "metadata": {
        "id": "vo8FXFViXv8n"
      },
      "source": [
        "%tensorboard --logdir logs"
      ],
      "execution_count": null,
      "outputs": []
    },
    {
      "cell_type": "markdown",
      "metadata": {
        "id": "y7MgVBs_W_z-"
      },
      "source": [
        "# Feladat"
      ]
    },
    {
      "cell_type": "markdown",
      "metadata": {
        "id": "MErQetYwW_z_"
      },
      "source": [
        "Vizsgáljátok meg L1 és L2 regularizáció hatását a súly mátriuxra. \n",
        "\n",
        "Segítség:\n",
        "\n",
        "```\n",
        "from keras import regularizers\n",
        "model.add(Dense(10, input_shape=(2,), kernel_regularizer=regularizers.l2(0.1)))\n",
        "...\n",
        "model.add(Dense(1, kernel_regularizer=regularizers.l2(0.1)))\n",
        "```"
      ]
    }
  ]
}